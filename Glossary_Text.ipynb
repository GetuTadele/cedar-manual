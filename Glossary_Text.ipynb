{
 "cells": [
  {
   "cell_type": "code",
   "execution_count": 7,
   "metadata": {
    "collapsed": false
   },
   "outputs": [],
   "source": [
    "import pandas as pd\n",
    "glossary_f = pd.read_csv(\"glossary.csv\", sep=\",\")\n",
    "glossary_d = glossary_f.to_dict(orient=\"index\")"
   ]
  },
  {
   "cell_type": "code",
   "execution_count": 14,
   "metadata": {
    "collapsed": false
   },
   "outputs": [
    {
     "data": {
      "text/html": [
       "<div>\n",
       "<table border=\"1\" class=\"dataframe\">\n",
       "  <thead>\n",
       "    <tr style=\"text-align: right;\">\n",
       "      <th></th>\n",
       "      <th>Unnamed: 0</th>\n",
       "      <th>Publication Term</th>\n",
       "      <th>Publication shortened term</th>\n",
       "      <th>Commonly used alternatives</th>\n",
       "      <th>Meaning</th>\n",
       "      <th>Examples</th>\n",
       "    </tr>\n",
       "  </thead>\n",
       "  <tbody>\n",
       "    <tr>\n",
       "      <th>0</th>\n",
       "      <td>NaN</td>\n",
       "      <td>CEDAR Workbench</td>\n",
       "      <td>CEDAR, Workbench</td>\n",
       "      <td>NaN</td>\n",
       "      <td>suite of Web-based tools and REST APIs that al...</td>\n",
       "      <td>NaN</td>\n",
       "    </tr>\n",
       "    <tr>\n",
       "      <th>1</th>\n",
       "      <td>things</td>\n",
       "      <td>NaN</td>\n",
       "      <td>NaN</td>\n",
       "      <td>NaN</td>\n",
       "      <td>NaN</td>\n",
       "      <td>NaN</td>\n",
       "    </tr>\n",
       "    <tr>\n",
       "      <th>2</th>\n",
       "      <td>NaN</td>\n",
       "      <td>metadata template field</td>\n",
       "      <td>field, template field</td>\n",
       "      <td>NaN</td>\n",
       "      <td>reusable artifact used to capture an atomic pi...</td>\n",
       "      <td>title, description, start date</td>\n",
       "    </tr>\n",
       "    <tr>\n",
       "      <th>3</th>\n",
       "      <td>NaN</td>\n",
       "      <td>metadata template element</td>\n",
       "      <td>element, template element</td>\n",
       "      <td>NaN</td>\n",
       "      <td>reusable artifact that may contain one or more...</td>\n",
       "      <td>Address element, with three fields: street, ci...</td>\n",
       "    </tr>\n",
       "    <tr>\n",
       "      <th>4</th>\n",
       "      <td>NaN</td>\n",
       "      <td>metadata template</td>\n",
       "      <td>template</td>\n",
       "      <td>specification</td>\n",
       "      <td>group of fields and/or template elements that ...</td>\n",
       "      <td>Study template with three fields: title, descr...</td>\n",
       "    </tr>\n",
       "  </tbody>\n",
       "</table>\n",
       "</div>"
      ],
      "text/plain": [
       "  Unnamed: 0           Publication Term Publication shortened term  \\\n",
       "0        NaN            CEDAR Workbench           CEDAR, Workbench   \n",
       "1     things                        NaN                        NaN   \n",
       "2        NaN    metadata template field      field, template field   \n",
       "3        NaN  metadata template element  element, template element   \n",
       "4        NaN         metadata template                    template   \n",
       "\n",
       "  Commonly used alternatives  \\\n",
       "0                        NaN   \n",
       "1                        NaN   \n",
       "2                        NaN   \n",
       "3                        NaN   \n",
       "4              specification   \n",
       "\n",
       "                                             Meaning  \\\n",
       "0  suite of Web-based tools and REST APIs that al...   \n",
       "1                                                NaN   \n",
       "2  reusable artifact used to capture an atomic pi...   \n",
       "3  reusable artifact that may contain one or more...   \n",
       "4  group of fields and/or template elements that ...   \n",
       "\n",
       "                                            Examples  \n",
       "0                                                NaN  \n",
       "1                                                NaN  \n",
       "2                     title, description, start date  \n",
       "3  Address element, with three fields: street, ci...  \n",
       "4  Study template with three fields: title, descr...  "
      ]
     },
     "execution_count": 14,
     "metadata": {},
     "output_type": "execute_result"
    }
   ],
   "source": [
    "glossary_f.head()"
   ]
  },
  {
   "cell_type": "code",
   "execution_count": 41,
   "metadata": {
    "collapsed": true
   },
   "outputs": [],
   "source": [
    "ref_glossary_text = open(\"docs/pages/glossary.md\", \"w+\")\n",
    "ref_glossary_text.write(\"---\\n\")\n",
    "ref_glossary_text.write(\"layout: page\\n\")\n",
    "ref_glossary_text.write(\"title: Glossary\\n\")\n",
    "ref_glossary_text.write(\"author: John Graybeal\\n\")\n",
    "ref_glossary_text.write(\"permalink: glossary\\n\")\n",
    "ref_glossary_text.write(\"---\\n\")"
   ]
  },
  {
   "cell_type": "code",
   "execution_count": 42,
   "metadata": {
    "collapsed": false
   },
   "outputs": [],
   "source": [
    "for k in glossary_d:\n",
    "    elems = glossary_d[k]\n",
    "    if str(elems[\"Unnamed: 0\"]) != \"nan\":\n",
    "        ref_glossary_text.write(\"---\\n\\n\")\n",
    "        ref_glossary_text.write(\"#### **\" + elems[\"Unnamed: 0\"].title().strip() + \"**\\n\\n\")\n",
    "        ref_glossary_text.write(\"---\\n\\n\")\n",
    "        ref_glossary_text.write(\"---\\n\\n\")\n",
    "    else:\n",
    "        if (str(elems[\"Publication Term\"])) == \"nan\": continue\n",
    "        meaning = elems[\"Meaning\"] if str(elems[\"Meaning\"]) != \"nan\" else \"\"\n",
    "        ref_glossary_text.write(\"**\" + elems[\"Publication Term\"].strip() + \"**: \" + meaning + \"\\n\\n\")\n",
    "        if str(elems[\"Publication shortened term\"]) != \"nan\": ref_glossary_text.write(\"Shortened Term: \" + elems[\"Publication shortened term\"] + \"\\n\\n\")\n",
    "        if str(elems[\"Commonly used alternatives\"]) != \"nan\": ref_glossary_text.write(\"Alternative Term: \" + elems[\"Commonly used alternatives\"] + \"\\n\\n\")\n",
    "        if str(elems[\"Examples\"]) != \"nan\": ref_glossary_text.write(\"*Examples: \" + elems[\"Examples\"].strip() + \"*\" + \"\\n\\n\")\n",
    "        ref_glossary_text.write(\"---\\n\\n\")"
   ]
  },
  {
   "cell_type": "code",
   "execution_count": 43,
   "metadata": {
    "collapsed": true
   },
   "outputs": [],
   "source": [
    "ref_glossary_text.close()"
   ]
  },
  {
   "cell_type": "code",
   "execution_count": null,
   "metadata": {
    "collapsed": true
   },
   "outputs": [],
   "source": []
  }
 ],
 "metadata": {
  "kernelspec": {
   "display_name": "Python 2",
   "language": "python",
   "name": "python2"
  },
  "language_info": {
   "codemirror_mode": {
    "name": "ipython",
    "version": 2
   },
   "file_extension": ".py",
   "mimetype": "text/x-python",
   "name": "python",
   "nbconvert_exporter": "python",
   "pygments_lexer": "ipython2",
   "version": "2.7.10"
  }
 },
 "nbformat": 4,
 "nbformat_minor": 0
}
